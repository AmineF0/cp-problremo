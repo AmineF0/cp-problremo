{
 "cells": [
  {
   "cell_type": "code",
   "execution_count": 1,
   "metadata": {},
   "outputs": [
    {
     "name": "stdout",
     "output_type": "stream",
     "text": [
      "1\n",
      "5\n",
      "1\n"
     ]
    }
   ],
   "source": [
    "s = input().strip()\n",
    "n = int(input().strip())\n",
    "\n",
    "for _ in range(n):\n",
    "    q = input().strip().split(\" \")\n",
    "    if q[0] == \"0\":\n",
    "        index = int(q[1]) - 1\n",
    "        s = s[:index] + q[2] + s[index + 1:]\n",
    "    elif q[0] == \"1\":\n",
    "        idx = s.find(q[1]) + 1\n",
    "        print(idx if idx else -1)"
   ]
  }
 ],
 "metadata": {
  "kernelspec": {
   "display_name": "Python 3",
   "language": "python",
   "name": "python3"
  },
  "language_info": {
   "codemirror_mode": {
    "name": "ipython",
    "version": 3
   },
   "file_extension": ".py",
   "mimetype": "text/x-python",
   "name": "python",
   "nbconvert_exporter": "python",
   "pygments_lexer": "ipython3",
   "version": "3.10.5"
  }
 },
 "nbformat": 4,
 "nbformat_minor": 2
}
