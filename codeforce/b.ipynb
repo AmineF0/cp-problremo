{
 "cells": [
  {
   "cell_type": "code",
   "execution_count": null,
   "metadata": {},
   "outputs": [],
   "source": []
  },
  {
   "cell_type": "code",
   "execution_count": null,
   "metadata": {},
   "outputs": [],
   "source": [
    "i = int(input())\n",
    "while i:\n",
    "  a,b = [int(j) for j in input().split()]\n",
    "  if a>b: print(\">\")\n",
    "  elif a < b : print(\"<\")\n",
    "  else: print(\"=\")\n",
    "  i-=1"
   ]
  }
 ],
 "metadata": {
  "kernelspec": {
   "display_name": "Python 3.10.5 64-bit (windows store)",
   "language": "python",
   "name": "python3"
  },
  "language_info": {
   "name": "python",
   "version": "3.10.5"
  },
  "orig_nbformat": 4,
  "vscode": {
   "interpreter": {
    "hash": "8c21c6562b4e393e7898320c57533db646c60a0d119f9dc5eab359f5edb5c9b9"
   }
  }
 },
 "nbformat": 4,
 "nbformat_minor": 2
}
