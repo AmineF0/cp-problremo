{
 "cells": [
  {
   "cell_type": "code",
   "execution_count": 81,
   "metadata": {},
   "outputs": [],
   "source": [
    "import numpy as np"
   ]
  },
  {
   "cell_type": "markdown",
   "metadata": {},
   "source": [
    "\n",
    "## LOGIQUE :\n",
    "Pour resoudre le probleme , on va utiliser l'algebre lineaire pour transformer le probleme en une matrice, et determiner la formule de A^n en fonction de n qui correspond a l'étape n-ieme de la suite.\n",
    "Pour resoudre ce probleme en utilisera les librairies NUMPY (librairie de calcul) et SYMPY (librairie qui permette utiliser des variables au sens mathematique)\n",
    "\n",
    "Ceci va nous permettez de reduire la complexité de O(n) (Solution naive, voir naive.cpp) à O(1) (Voir optimise.cpp)\n",
    "\n"
   ]
  },
  {
   "cell_type": "markdown",
   "metadata": {},
   "source": [
    "### PARTIE I: DETERMINER LES PROPRIETES DE LA MATRICE A L'AIDE DE LA LIBRAIRIE NUMPY"
   ]
  },
  {
   "cell_type": "markdown",
   "metadata": {},
   "source": [
    "On transfome la suite de l'exercice en une matrice A"
   ]
  },
  {
   "cell_type": "code",
   "execution_count": 82,
   "metadata": {},
   "outputs": [
    {
     "data": {
      "text/plain": [
       "matrix([[1, 1, 1],\n",
       "        [1, 0, 0],\n",
       "        [0, 1, 0]])"
      ]
     },
     "execution_count": 82,
     "metadata": {},
     "output_type": "execute_result"
    }
   ],
   "source": [
    "A = np.matrix([[1,1,1],[1,0,0],[0,1,0]])\n",
    "A"
   ]
  },
  {
   "cell_type": "markdown",
   "metadata": {},
   "source": [
    "On determine les valeurs propres et les vecteurs propres a l aide de la librairie numpy"
   ]
  },
  {
   "cell_type": "code",
   "execution_count": 83,
   "metadata": {},
   "outputs": [
    {
     "name": "stdout",
     "output_type": "stream",
     "text": [
      "valeurs propres [ 1.83928676+0.j         -0.41964338+0.60629073j -0.41964338-0.60629073j]\n",
      "vecteurs propres [[-0.85034021+0.j         -0.14119411-0.37520324j -0.14119411+0.37520324j]\n",
      " [-0.46232063+0.j         -0.30942518+0.44705011j -0.30942518-0.44705011j]\n",
      " [-0.25135865+0.j          0.73735271+0.j          0.73735271-0.j        ]]\n"
     ]
    }
   ],
   "source": [
    "w, v = np.linalg.eig(A)\n",
    "print(\"valeurs propres\", w)\n",
    "print(\"vecteurs propres\", v)\n"
   ]
  },
  {
   "cell_type": "markdown",
   "metadata": {},
   "source": [
    "On deduit l'ecriture de A en fonctions des vecteurs propres et evaleurs propres : A=PDP^(-1)\n",
    "Si on calcule PDP^(-1), on note qu'on obtient A avec des erreurs de calculs"
   ]
  },
  {
   "cell_type": "code",
   "execution_count": 84,
   "metadata": {},
   "outputs": [
    {
     "name": "stdout",
     "output_type": "stream",
     "text": [
      "[[ 1.00000000e+00-3.65651870e-17j  1.00000000e+00+3.68444239e-17j\n",
      "   1.00000000e+00+5.43620951e-17j]\n",
      " [ 1.00000000e+00+8.83990411e-18j -1.29929043e-16-1.32755708e-17j\n",
      "   4.32223801e-18-3.17021480e-17j]\n",
      " [-5.90665610e-16+1.68080415e-17j  1.00000000e+00-4.16481995e-17j\n",
      "  -5.43630217e-16+1.03660322e-16j]]\n"
     ]
    }
   ],
   "source": [
    "D = np.diag(w) # on transform le spectre en une matrice diagonal\n",
    "\n",
    "\n",
    "print(v*D*np.linalg.inv(v))"
   ]
  },
  {
   "cell_type": "markdown",
   "metadata": {},
   "source": [
    "\n",
    "### PARTIE 2 : DETERMINER LA MATRICE A^n A L AIDE DE LA LIBRAIRIE SYMPY\n"
   ]
  },
  {
   "cell_type": "code",
   "execution_count": 85,
   "metadata": {},
   "outputs": [],
   "source": [
    "import sympy as sp\n",
    "n = sp.symbols('n') # on definie la  variable x et y sachant que x=(-1)^n y=2^n"
   ]
  },
  {
   "cell_type": "markdown",
   "metadata": {},
   "source": [
    "On utilise les varibles qu'on a cree pour trouver A^n"
   ]
  },
  {
   "cell_type": "code",
   "execution_count": 86,
   "metadata": {},
   "outputs": [
    {
     "name": "stdout",
     "output_type": "stream",
     "text": [
      "A^n =  [[-0.850340207407311*1.83928675521416**n*(-0.727261767622345 + 8.16013854626953e-18*I) + (-0.419643377607081 - 0.6062907292072*I)**n*(-0.141194109353152 + 0.375203235953275*I)*(-0.12395935590946 - 0.461850249096085*I) + (-0.419643377607081 + 0.6062907292072*I)**n*(-0.141194109353152 - 0.375203235953275*I)*(-0.12395935590946 + 0.461850249096085*I)\n",
      "  0.519031649963237*1.83928675521416**n + (-0.419643377607081 - 0.6062907292072*I)**n*(-0.141194109353152 + 0.375203235953275*I)*(-0.104037445599688 + 0.730818055861839*I) + (-0.419643377607081 + 0.6062907292072*I)**n*(-0.141194109353152 - 0.375203235953275*I)*(-0.104037445599688 - 0.730818055861839*I)\n",
      "  -0.850340207407311*1.83928675521416**n*(-0.395404232407287 - 3.26405541850781e-17*I) + (-0.419643377607081 - 0.6062907292072*I)**n*(-0.141194109353152 + 0.375203235953275*I)*(0.610706192984787 + 0.218244230475471*I) + (-0.419643377607081 + 0.6062907292072*I)**n*(-0.141194109353152 - 0.375203235953275*I)*(0.610706192984787 - 0.218244230475471*I)]\n",
      " [-0.462320627817656*1.83928675521416**n*(-0.727261767622345 + 8.16013854626953e-18*I) + (-0.419643377607081 - 0.6062907292072*I)**n*(-0.309425179932983 - 0.44705010965833*I)*(-0.12395935590946 - 0.461850249096085*I) + (-0.419643377607081 + 0.6062907292072*I)**n*(-0.309425179932983 + 0.44705010965833*I)*(-0.12395935590946 + 0.461850249096085*I)\n",
      "  0.282191805324451*1.83928675521416**n + (-0.419643377607081 - 0.6062907292072*I)**n*(-0.309425179932983 - 0.44705010965833*I)*(-0.104037445599688 + 0.730818055861839*I) + (-0.419643377607081 + 0.6062907292072*I)**n*(-0.309425179932983 + 0.44705010965833*I)*(-0.104037445599688 - 0.730818055861839*I)\n",
      "  -0.462320627817656*1.83928675521416**n*(-0.395404232407287 - 3.26405541850781e-17*I) + (-0.419643377607081 - 0.6062907292072*I)**n*(-0.309425179932983 - 0.44705010965833*I)*(0.610706192984787 + 0.218244230475471*I) + (-0.419643377607081 + 0.6062907292072*I)**n*(-0.309425179932983 + 0.44705010965833*I)*(0.610706192984787 - 0.218244230475471*I)]\n",
      " [-0.251358645685362*1.83928675521416**n*(-0.727261767622345 + 8.16013854626953e-18*I) + 0.737352705760328*(-0.419643377607081 - 0.6062907292072*I)**n*(-0.12395935590946 - 0.461850249096085*I) + 0.737352705760328*(-0.419643377607081 + 0.6062907292072*I)**n*(-0.12395935590946 + 0.461850249096085*I)\n",
      "  0.153424584026646*1.83928675521416**n + 0.737352705760328*(-0.419643377607081 - 0.6062907292072*I)**n*(-0.104037445599688 + 0.730818055861839*I) + 0.737352705760328*(-0.419643377607081 + 0.6062907292072*I)**n*(-0.104037445599688 - 0.730818055861839*I)\n",
      "  -0.251358645685362*1.83928675521416**n*(-0.395404232407287 - 3.26405541850781e-17*I) + 0.737352705760328*(-0.419643377607081 - 0.6062907292072*I)**n*(0.610706192984787 + 0.218244230475471*I) + 0.737352705760328*(-0.419643377607081 + 0.6062907292072*I)**n*(0.610706192984787 - 0.218244230475471*I)]]\n"
     ]
    }
   ],
   "source": [
    "Dn = np.diag([valeur_propre**n for valeur_propre in w])\n",
    "An = v*Dn*np.linalg.inv(v)\n",
    "print(\"A^n = \", An)"
   ]
  },
  {
   "cell_type": "markdown",
   "metadata": {},
   "source": [
    "Il suffit de faire le produit de A^n*(a0,b0,c0) et remplacer x avec (-1)^n et y avec 2^n:\n",
    "\n",
    "On resoud l'example 2 de l'exercice :"
   ]
  },
  {
   "cell_type": "code",
   "execution_count": 87,
   "metadata": {},
   "outputs": [
    {
     "data": {
      "text/plain": [
       "[24.0 - 2.70753e-16*I, 13.0 - 1.4606e-16*I, 6.99999999999999 - 8.599e-17*I]"
      ]
     },
     "execution_count": 87,
     "metadata": {},
     "output_type": "execute_result"
    }
   ],
   "source": [
    "\n",
    "n_ex=6\n",
    "\n",
    "etape_n = np.dot(An, np.array([1,0,0])).tolist()[0] # on multiplie la matrice A^n par le vecteur [1,0,0] pour obtenir la valeur de l'etape n\n",
    "\n",
    "# Reponse = np.sum(etape_n) # exercice demande la somme des montants\n",
    "\n",
    "ans = []\n",
    "for row in etape_n:\n",
    "    ans.append(row.evalf(subs={n:n_ex}))\n",
    "\n",
    "ans\n"
   ]
  },
  {
   "cell_type": "markdown",
   "metadata": {},
   "source": []
  },
  {
   "cell_type": "markdown",
   "metadata": {},
   "source": []
  },
  {
   "cell_type": "code",
   "execution_count": null,
   "metadata": {},
   "outputs": [],
   "source": [
    "%1000000007"
   ]
  }
 ],
 "metadata": {
  "kernelspec": {
   "display_name": "Python 3.10.5 64-bit (windows store)",
   "language": "python",
   "name": "python3"
  },
  "language_info": {
   "codemirror_mode": {
    "name": "ipython",
    "version": 3
   },
   "file_extension": ".py",
   "mimetype": "text/x-python",
   "name": "python",
   "nbconvert_exporter": "python",
   "pygments_lexer": "ipython3",
   "version": "3.10.5"
  },
  "orig_nbformat": 4,
  "vscode": {
   "interpreter": {
    "hash": "8c21c6562b4e393e7898320c57533db646c60a0d119f9dc5eab359f5edb5c9b9"
   }
  }
 },
 "nbformat": 4,
 "nbformat_minor": 2
}
