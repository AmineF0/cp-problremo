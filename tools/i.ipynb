{
 "cells": [
  {
   "cell_type": "code",
   "execution_count": 16,
   "metadata": {},
   "outputs": [],
   "source": [
    "import numpy as np"
   ]
  },
  {
   "cell_type": "markdown",
   "metadata": {},
   "source": [
    "\n",
    "## LOGIQUE :\n",
    "Pour resoudre le probleme , on va utiliser l'algebre lineaire pour transformer le probleme en une matrice, et determiner la formule de A^n en fonction de n qui correspond a l'étape n-ieme de la suite.\n",
    "Pour resoudre ce probleme en utilisera les librairies NUMPY (librairie de calcul) et SYMPY (librairie qui permette utiliser des variables au sens mathematique)\n",
    "\n",
    "Ceci va nous permettez de reduire la complexité de O(n) (Solution naive, voir naive.cpp) à O(1) (Voir optimise.cpp)\n",
    "\n"
   ]
  },
  {
   "cell_type": "markdown",
   "metadata": {},
   "source": [
    "### PARTIE I: DETERMINER LES PROPRIETES DE LA MATRICE A L'AIDE DE LA LIBRAIRIE NUMPY"
   ]
  },
  {
   "cell_type": "markdown",
   "metadata": {},
   "source": [
    "On transfome la suite de l'exercice en une matrice A"
   ]
  },
  {
   "cell_type": "code",
   "execution_count": 17,
   "metadata": {},
   "outputs": [
    {
     "data": {
      "text/plain": [
       "matrix([[0, 1, 1],\n",
       "        [1, 0, 1],\n",
       "        [1, 1, 0]])"
      ]
     },
     "execution_count": 17,
     "metadata": {},
     "output_type": "execute_result"
    }
   ],
   "source": [
    "A = np.matrix([[0, 1, 1], [1, 0, 1], [1, 1, 0]])\n",
    "A"
   ]
  },
  {
   "cell_type": "markdown",
   "metadata": {},
   "source": [
    "On determine les valeurs propres et les vecteurs propres a l aide de la librairie numpy"
   ]
  },
  {
   "cell_type": "code",
   "execution_count": 18,
   "metadata": {},
   "outputs": [
    {
     "name": "stdout",
     "output_type": "stream",
     "text": [
      "valeurs propres [-1.  2. -1.]\n",
      "vecteurs propres [[-0.81649658  0.57735027  0.19219669]\n",
      " [ 0.40824829  0.57735027 -0.7833358 ]\n",
      " [ 0.40824829  0.57735027  0.59113912]]\n"
     ]
    }
   ],
   "source": [
    "w, v = np.linalg.eig(A)\n",
    "print(\"valeurs propres\", w)\n",
    "print(\"vecteurs propres\", v)\n"
   ]
  },
  {
   "cell_type": "markdown",
   "metadata": {},
   "source": [
    "On deduit l'ecriture de A en fonctions des vecteurs propres et evaleurs propres : A=PDP^(-1)\n",
    "Si on calcule PDP^(-1), on note qu'on obtient A avec des erreurs de calculs"
   ]
  },
  {
   "cell_type": "code",
   "execution_count": 19,
   "metadata": {},
   "outputs": [
    {
     "name": "stdout",
     "output_type": "stream",
     "text": [
      "[[-6.21942332e-16  1.00000000e+00  1.00000000e+00]\n",
      " [ 1.00000000e+00 -8.26723370e-17  1.00000000e+00]\n",
      " [ 1.00000000e+00  1.00000000e+00 -3.50238549e-16]]\n"
     ]
    }
   ],
   "source": [
    "D = np.diag(w) # on transform le spectre en une matrice diagonal\n",
    "\n",
    "\n",
    "print(v*D*np.linalg.inv(v))"
   ]
  },
  {
   "cell_type": "markdown",
   "metadata": {},
   "source": [
    "\n",
    "### PARTIE 2 : DETERMINER LA MATRICE A^n A L AIDE DE LA LIBRAIRIE SYMPY\n"
   ]
  },
  {
   "cell_type": "code",
   "execution_count": 20,
   "metadata": {},
   "outputs": [],
   "source": [
    "import sympy as sp\n",
    "n = sp.symbols('n') # on definie la  variable x et y sachant que x=(-1)^n y=2^n"
   ]
  },
  {
   "cell_type": "markdown",
   "metadata": {},
   "source": [
    "On utilise les varibles qu'on a cree pour trouver A^n"
   ]
  },
  {
   "cell_type": "code",
   "execution_count": 21,
   "metadata": {},
   "outputs": [
    {
     "name": "stdout",
     "output_type": "stream",
     "text": [
      "A^n =  [[-7.76228006213826e-18*(-1.0)**n + 0.666666666666667*(-1.0)**n + 0.333333333333333*2.0**n\n",
      "  -0.139832806381565*(-1.0)**n - 0.193500526951768*(-1.0)**n + 0.333333333333333*2.0**n\n",
      "  0.139832806381565*(-1.0)**n - 0.473166139714899*(-1.0)**n + 0.333333333333333*2.0**n]\n",
      " [3.1636715646698e-17*(-1.0)**n - 0.333333333333333*(-1.0)**n + 0.333333333333333*2.0**n\n",
      "  0.569916403190783*(-1.0)**n + 0.0967502634758841*(-1.0)**n + 0.333333333333333*2.0**n\n",
      "  -0.569916403190782*(-1.0)**n + 0.236583069857449*(-1.0)**n + 0.333333333333333*2.0**n]\n",
      " [-2.38744355845598e-17*(-1.0)**n - 0.333333333333333*(-1.0)**n + 0.333333333333333*2.0**n\n",
      "  -0.430083596809218*(-1.0)**n + 0.0967502634758841*(-1.0)**n + 0.333333333333333*2.0**n\n",
      "  0.430083596809217*(-1.0)**n + 0.236583069857449*(-1.0)**n + 0.333333333333333*2.0**n]]\n"
     ]
    }
   ],
   "source": [
    "Dn = np.diag([valeur_propre**n for valeur_propre in w])\n",
    "An = v*Dn*np.linalg.inv(v)\n",
    "print(\"A^n = \", An)"
   ]
  },
  {
   "cell_type": "markdown",
   "metadata": {},
   "source": [
    "Il suffit de faire le produit de A^n*(a0,b0,c0) et remplacer x avec (-1)^n et y avec 2^n:\n",
    "\n",
    "On resoud l'example 2 de l'exercice :"
   ]
  },
  {
   "cell_type": "code",
   "execution_count": 23,
   "metadata": {},
   "outputs": [
    {
     "data": {
      "text/latex": [
       "$\\displaystyle 383.999999999999$"
      ],
      "text/plain": [
       "383.999999999999"
      ]
     },
     "execution_count": 23,
     "metadata": {},
     "output_type": "execute_result"
    }
   ],
   "source": [
    "a0, b0, c0 = 2,3,7\n",
    "n_ex=5\n",
    "\n",
    "etape_n = np.dot(An, np.array([a0,b0,c0]))\n",
    "\n",
    "Reponse = np.sum(etape_n) # exercice demande la somme des montants\n",
    "\n",
    "Reponse.evalf(subs={n:n_ex})\n"
   ]
  },
  {
   "cell_type": "code",
   "execution_count": null,
   "metadata": {},
   "outputs": [],
   "source": []
  }
 ],
 "metadata": {
  "kernelspec": {
   "display_name": "Python 3.10.5 64-bit (windows store)",
   "language": "python",
   "name": "python3"
  },
  "language_info": {
   "codemirror_mode": {
    "name": "ipython",
    "version": 3
   },
   "file_extension": ".py",
   "mimetype": "text/x-python",
   "name": "python",
   "nbconvert_exporter": "python",
   "pygments_lexer": "ipython3",
   "version": "3.10.11"
  },
  "orig_nbformat": 4,
  "vscode": {
   "interpreter": {
    "hash": "8c21c6562b4e393e7898320c57533db646c60a0d119f9dc5eab359f5edb5c9b9"
   }
  }
 },
 "nbformat": 4,
 "nbformat_minor": 2
}
